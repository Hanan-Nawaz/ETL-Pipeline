{
 "cells": [
  {
   "cell_type": "markdown",
   "metadata": {},
   "source": [
    "<p style=\"text-align:center\">\n",
    "    <a href=\"https://skills.network/?utm_medium=Exinfluencer&utm_source=Exinfluencer&utm_content=000026UJ&utm_term=10006555&utm_id=NA-SkillsNetwork-Channel-SkillsNetworkCoursesIBMDeveloperSkillsNetworkPY0221ENSkillsNetwork899-2023-01-01\">\n",
    "    <img src=\"https://cf-courses-data.s3.us.cloud-object-storage.appdomain.cloud/assets/logos/SN_web_lightmode.png\" width=\"200\" alt=\"Skills Network Logo\"  />\n",
    "    </a>\n",
    "</p>\n"
   ]
  },
  {
   "cell_type": "markdown",
   "metadata": {},
   "source": [
    "# Peer Review Assignment - Data Engineer - Extract API Data\n"
   ]
  },
  {
   "cell_type": "markdown",
   "metadata": {},
   "source": [
    "Estimated time needed: **20** minutes\n"
   ]
  },
  {
   "cell_type": "markdown",
   "metadata": {},
   "source": [
    "## Objectives\n",
    "\n",
    "In this part you will:\n",
    "\n",
    "-   Collect exchange rate data using an API\n",
    "-   Store the data as a CSV\n"
   ]
  },
  {
   "cell_type": "markdown",
   "metadata": {},
   "source": [
    "For this lab, we are going to be using Python and several Python libraries. Some of these libraries might be installed in your lab environment or in SN Labs. Others may need to be installed by you. The cells below will install these libraries when executed.\n"
   ]
  },
  {
   "cell_type": "code",
   "execution_count": 1,
   "metadata": {},
   "outputs": [
    {
     "name": "stdout",
     "output_type": "stream",
     "text": [
      "Requirement already satisfied: pandas in /home/jupyterlab/conda/envs/python/lib/python3.7/site-packages (1.3.5)\n",
      "Requirement already satisfied: python-dateutil>=2.7.3 in /home/jupyterlab/conda/envs/python/lib/python3.7/site-packages (from pandas) (2.8.2)\n",
      "Requirement already satisfied: pytz>=2017.3 in /home/jupyterlab/conda/envs/python/lib/python3.7/site-packages (from pandas) (2023.3)\n",
      "Requirement already satisfied: numpy>=1.17.3 in /home/jupyterlab/conda/envs/python/lib/python3.7/site-packages (from pandas) (1.21.6)\n",
      "Requirement already satisfied: six>=1.5 in /home/jupyterlab/conda/envs/python/lib/python3.7/site-packages (from python-dateutil>=2.7.3->pandas) (1.16.0)\n",
      "Requirement already satisfied: requests in /home/jupyterlab/conda/envs/python/lib/python3.7/site-packages (2.29.0)\n",
      "Requirement already satisfied: charset-normalizer<4,>=2 in /home/jupyterlab/conda/envs/python/lib/python3.7/site-packages (from requests) (3.1.0)\n",
      "Requirement already satisfied: idna<4,>=2.5 in /home/jupyterlab/conda/envs/python/lib/python3.7/site-packages (from requests) (3.4)\n",
      "Requirement already satisfied: urllib3<1.27,>=1.21.1 in /home/jupyterlab/conda/envs/python/lib/python3.7/site-packages (from requests) (1.26.15)\n",
      "Requirement already satisfied: certifi>=2017.4.17 in /home/jupyterlab/conda/envs/python/lib/python3.7/site-packages (from requests) (2023.5.7)\n"
     ]
    }
   ],
   "source": [
    "!pip install pandas\n",
    "!pip install requests"
   ]
  },
  {
   "cell_type": "markdown",
   "metadata": {},
   "source": [
    "## Imports\n",
    "\n",
    "Import any additional libraries you may need here.\n"
   ]
  },
  {
   "cell_type": "code",
   "execution_count": 4,
   "metadata": {},
   "outputs": [],
   "source": [
    "import requests\n",
    "import pandas as pd"
   ]
  },
  {
   "cell_type": "markdown",
   "metadata": {},
   "source": [
    "## Extract Data Using an API\n"
   ]
  },
  {
   "cell_type": "markdown",
   "metadata": {},
   "source": [
    "Using ExchangeRate-API we will extract currency exchange rate data. Use the below steps to get the access key and to get the data. \n",
    "1. Open the url : https://exchangeratesapi.io/ and click on **Get Free API Key**. \n",
    "2. Subscribe for Free plan and Sign-in with the Google Account. \n",
    "3. Once the account is created you will be redirected to https://apilayer.com website.\n",
    "2. Now, click on the **user icon** and click **Account** as shown below:\n",
    "\n",
    "<img src=\"https://cf-courses-data.s3.us.cloud-object-storage.appdomain.cloud/IBMDeveloperSkillsNetwork-PY0221EN-SkillsNetwork/labs/module%206/Final%20Assignment/Images/account.png\">\n",
    "\n",
    "3. Scroll down and you will get the API Key section. Copy the API key and use in the url in Question 1.\n"
   ]
  },
  {
   "cell_type": "markdown",
   "metadata": {},
   "source": [
    "### Call the API\n",
    "\n",
    " <b> Question 1</b> Using the `requests` library call the endpoint given above and save the text, remember the first few characters of the output: \n"
   ]
  },
  {
   "cell_type": "code",
   "execution_count": 5,
   "metadata": {},
   "outputs": [
    {
     "data": {
      "text/plain": [
       "{'success': True,\n",
       " 'timestamp': 1687675263,\n",
       " 'base': 'EUR',\n",
       " 'date': '2023-06-25',\n",
       " 'rates': {'AED': 4.014963,\n",
       "  'AFN': 93.254188,\n",
       "  'ALL': 107.488721,\n",
       "  'AMD': 420.038693,\n",
       "  'ANG': 1.957948,\n",
       "  'AOA': 868.4963,\n",
       "  'ARS': 275.463714,\n",
       "  'AUD': 1.636913,\n",
       "  'AWG': 1.967634,\n",
       "  'AZN': 1.862661,\n",
       "  'BAM': 1.955049,\n",
       "  'BBD': 2.193558,\n",
       "  'BDT': 117.524867,\n",
       "  'BGN': 1.962392,\n",
       "  'BHD': 0.410442,\n",
       "  'BIF': 3070.120983,\n",
       "  'BMD': 1.09313,\n",
       "  'BND': 1.469636,\n",
       "  'BOB': 7.507117,\n",
       "  'BRL': 5.228562,\n",
       "  'BSD': 1.086383,\n",
       "  'BTC': 3.5393098e-05,\n",
       "  'BTN': 89.0564,\n",
       "  'BWP': 14.592396,\n",
       "  'BYN': 2.742147,\n",
       "  'BYR': 21425.352035,\n",
       "  'BZD': 2.189859,\n",
       "  'CAD': 1.444408,\n",
       "  'CDF': 2601.650285,\n",
       "  'CHF': 0.980155,\n",
       "  'CLF': 0.031834,\n",
       "  'CLP': 874.034345,\n",
       "  'CNY': 7.84857,\n",
       "  'COP': 4454.18946,\n",
       "  'CRC': 587.974201,\n",
       "  'CUC': 1.09313,\n",
       "  'CUP': 28.96795,\n",
       "  'CVE': 110.227669,\n",
       "  'CZK': 23.730877,\n",
       "  'DJF': 193.425719,\n",
       "  'DKK': 7.472205,\n",
       "  'DOP': 59.877005,\n",
       "  'DZD': 147.767253,\n",
       "  'EGP': 33.640081,\n",
       "  'ERN': 16.396953,\n",
       "  'ETB': 59.247747,\n",
       "  'EUR': 1,\n",
       "  'FJD': 2.430302,\n",
       "  'FKP': 0.860808,\n",
       "  'GBP': 0.859785,\n",
       "  'GEL': 2.869511,\n",
       "  'GGP': 0.860808,\n",
       "  'GHS': 12.537185,\n",
       "  'GIP': 0.860808,\n",
       "  'GMD': 65.04546,\n",
       "  'GNF': 9340.413007,\n",
       "  'GTQ': 8.517729,\n",
       "  'GYD': 229.771761,\n",
       "  'HKD': 8.559155,\n",
       "  'HNL': 26.746728,\n",
       "  'HRK': 7.625799,\n",
       "  'HTG': 150.462218,\n",
       "  'HUF': 371.413274,\n",
       "  'IDR': 16446.471886,\n",
       "  'ILS': 3.966997,\n",
       "  'IMP': 0.860808,\n",
       "  'INR': 89.620831,\n",
       "  'IQD': 1423.153467,\n",
       "  'IRR': 46212.079838,\n",
       "  'ISK': 149.442252,\n",
       "  'JEP': 0.860808,\n",
       "  'JMD': 167.655615,\n",
       "  'JOD': 0.77558,\n",
       "  'JPY': 157.094163,\n",
       "  'KES': 151.221926,\n",
       "  'KGS': 95.428522,\n",
       "  'KHR': 4482.278673,\n",
       "  'KMF': 494.34085,\n",
       "  'KPW': 983.827834,\n",
       "  'KRW': 1430.541284,\n",
       "  'KWD': 0.33616,\n",
       "  'KYD': 0.905352,\n",
       "  'KZT': 487.172911,\n",
       "  'LAK': 20683.057098,\n",
       "  'LBP': 16306.637772,\n",
       "  'LKR': 334.621496,\n",
       "  'LRD': 194.522938,\n",
       "  'LSL': 20.496608,\n",
       "  'LTL': 3.22773,\n",
       "  'LVL': 0.661224,\n",
       "  'LYD': 5.203002,\n",
       "  'MAD': 10.820545,\n",
       "  'MDL': 19.515505,\n",
       "  'MGA': 4938.103623,\n",
       "  'MKD': 61.586349,\n",
       "  'MMK': 2281.423866,\n",
       "  'MNT': 3769.227581,\n",
       "  'MOP': 8.761535,\n",
       "  'MRO': 390.247295,\n",
       "  'MUR': 50.020791,\n",
       "  'MVR': 16.790894,\n",
       "  'MWK': 1105.475465,\n",
       "  'MXN': 18.761289,\n",
       "  'MYR': 5.112028,\n",
       "  'MZN': 69.140898,\n",
       "  'NAD': 20.496604,\n",
       "  'NGN': 899.646535,\n",
       "  'NIO': 39.734741,\n",
       "  'NOK': 11.832592,\n",
       "  'NPR': 142.49028,\n",
       "  'NZD': 1.779618,\n",
       "  'OMR': 0.419159,\n",
       "  'PAB': 1.086383,\n",
       "  'PEN': 3.942886,\n",
       "  'PGK': 3.919495,\n",
       "  'PHP': 60.958448,\n",
       "  'PKR': 311.248671,\n",
       "  'PLN': 4.453097,\n",
       "  'PYG': 7911.961574,\n",
       "  'QAR': 3.980129,\n",
       "  'RON': 4.973091,\n",
       "  'RSD': 117.196993,\n",
       "  'RUB': 92.506186,\n",
       "  'RWF': 1252.718919,\n",
       "  'SAR': 4.099536,\n",
       "  'SBD': 9.094891,\n",
       "  'SCR': 15.345107,\n",
       "  'SDG': 657.521839,\n",
       "  'SEK': 11.617312,\n",
       "  'SGD': 1.477749,\n",
       "  'SHP': 1.330067,\n",
       "  'SLE': 19.703539,\n",
       "  'SLL': 21589.321936,\n",
       "  'SOS': 621.448528,\n",
       "  'SRD': 41.572876,\n",
       "  'STD': 22625.58824,\n",
       "  'SVC': 9.50535,\n",
       "  'SYP': 2746.512003,\n",
       "  'SZL': 20.28521,\n",
       "  'THB': 38.533243,\n",
       "  'TJS': 11.863344,\n",
       "  'TMT': 3.825956,\n",
       "  'TND': 3.378907,\n",
       "  'TOP': 2.564706,\n",
       "  'TRY': 27.631384,\n",
       "  'TTD': 7.384164,\n",
       "  'TWD': 33.890867,\n",
       "  'TZS': 2601.900794,\n",
       "  'UAH': 40.121792,\n",
       "  'UGX': 3992.466775,\n",
       "  'USD': 1.09313,\n",
       "  'UYU': 41.044238,\n",
       "  'UZS': 12460.214911,\n",
       "  'VEF': 2995328.696593,\n",
       "  'VES': 29.805152,\n",
       "  'VND': 25715.888093,\n",
       "  'VUV': 129.171848,\n",
       "  'WST': 2.956537,\n",
       "  'XAF': 655.70519,\n",
       "  'XAG': 0.048788,\n",
       "  'XAU': 0.000569,\n",
       "  'XCD': 2.954239,\n",
       "  'XDR': 0.810189,\n",
       "  'XOF': 655.70519,\n",
       "  'XPF': 120.299377,\n",
       "  'YER': 273.665544,\n",
       "  'ZAR': 20.491032,\n",
       "  'ZMK': 9839.487532,\n",
       "  'ZMW': 18.495897,\n",
       "  'ZWL': 351.98748}}"
      ]
     },
     "execution_count": 5,
     "metadata": {},
     "output_type": "execute_result"
    }
   ],
   "source": [
    "# Write your code here\n",
    "url = \"http://api.exchangeratesapi.io/v1/latest?base=EUR&access_key=f398eb2b33c16670c0eb58e184d5b843\"  #Make sure to change ******* to your API key\n",
    "response = requests.get(url)\n",
    "response.json()"
   ]
  },
  {
   "cell_type": "markdown",
   "metadata": {},
   "source": [
    "### Save as DataFrame\n",
    "\n",
    " <b> Question 2</b>  Using the data gathered turn it into a `pandas` dataframe. The dataframe should have the Currency as the index and `Rate` as their columns. Make sure to drop unnecessary columns.\n"
   ]
  },
  {
   "cell_type": "code",
   "execution_count": 6,
   "metadata": {},
   "outputs": [
    {
     "data": {
      "text/html": [
       "<div>\n",
       "<style scoped>\n",
       "    .dataframe tbody tr th:only-of-type {\n",
       "        vertical-align: middle;\n",
       "    }\n",
       "\n",
       "    .dataframe tbody tr th {\n",
       "        vertical-align: top;\n",
       "    }\n",
       "\n",
       "    .dataframe thead th {\n",
       "        text-align: right;\n",
       "    }\n",
       "</style>\n",
       "<table border=\"1\" class=\"dataframe\">\n",
       "  <thead>\n",
       "    <tr style=\"text-align: right;\">\n",
       "      <th></th>\n",
       "      <th>success</th>\n",
       "      <th>timestamp</th>\n",
       "      <th>base</th>\n",
       "      <th>date</th>\n",
       "      <th>rates</th>\n",
       "    </tr>\n",
       "  </thead>\n",
       "  <tbody>\n",
       "    <tr>\n",
       "      <th>AED</th>\n",
       "      <td>True</td>\n",
       "      <td>1687675263</td>\n",
       "      <td>EUR</td>\n",
       "      <td>2023-06-25</td>\n",
       "      <td>4.014963</td>\n",
       "    </tr>\n",
       "    <tr>\n",
       "      <th>AFN</th>\n",
       "      <td>True</td>\n",
       "      <td>1687675263</td>\n",
       "      <td>EUR</td>\n",
       "      <td>2023-06-25</td>\n",
       "      <td>93.254188</td>\n",
       "    </tr>\n",
       "    <tr>\n",
       "      <th>ALL</th>\n",
       "      <td>True</td>\n",
       "      <td>1687675263</td>\n",
       "      <td>EUR</td>\n",
       "      <td>2023-06-25</td>\n",
       "      <td>107.488721</td>\n",
       "    </tr>\n",
       "    <tr>\n",
       "      <th>AMD</th>\n",
       "      <td>True</td>\n",
       "      <td>1687675263</td>\n",
       "      <td>EUR</td>\n",
       "      <td>2023-06-25</td>\n",
       "      <td>420.038693</td>\n",
       "    </tr>\n",
       "    <tr>\n",
       "      <th>ANG</th>\n",
       "      <td>True</td>\n",
       "      <td>1687675263</td>\n",
       "      <td>EUR</td>\n",
       "      <td>2023-06-25</td>\n",
       "      <td>1.957948</td>\n",
       "    </tr>\n",
       "    <tr>\n",
       "      <th>...</th>\n",
       "      <td>...</td>\n",
       "      <td>...</td>\n",
       "      <td>...</td>\n",
       "      <td>...</td>\n",
       "      <td>...</td>\n",
       "    </tr>\n",
       "    <tr>\n",
       "      <th>YER</th>\n",
       "      <td>True</td>\n",
       "      <td>1687675263</td>\n",
       "      <td>EUR</td>\n",
       "      <td>2023-06-25</td>\n",
       "      <td>273.665544</td>\n",
       "    </tr>\n",
       "    <tr>\n",
       "      <th>ZAR</th>\n",
       "      <td>True</td>\n",
       "      <td>1687675263</td>\n",
       "      <td>EUR</td>\n",
       "      <td>2023-06-25</td>\n",
       "      <td>20.491032</td>\n",
       "    </tr>\n",
       "    <tr>\n",
       "      <th>ZMK</th>\n",
       "      <td>True</td>\n",
       "      <td>1687675263</td>\n",
       "      <td>EUR</td>\n",
       "      <td>2023-06-25</td>\n",
       "      <td>9839.487532</td>\n",
       "    </tr>\n",
       "    <tr>\n",
       "      <th>ZMW</th>\n",
       "      <td>True</td>\n",
       "      <td>1687675263</td>\n",
       "      <td>EUR</td>\n",
       "      <td>2023-06-25</td>\n",
       "      <td>18.495897</td>\n",
       "    </tr>\n",
       "    <tr>\n",
       "      <th>ZWL</th>\n",
       "      <td>True</td>\n",
       "      <td>1687675263</td>\n",
       "      <td>EUR</td>\n",
       "      <td>2023-06-25</td>\n",
       "      <td>351.987480</td>\n",
       "    </tr>\n",
       "  </tbody>\n",
       "</table>\n",
       "<p>170 rows × 5 columns</p>\n",
       "</div>"
      ],
      "text/plain": [
       "     success   timestamp base        date        rates\n",
       "AED     True  1687675263  EUR  2023-06-25     4.014963\n",
       "AFN     True  1687675263  EUR  2023-06-25    93.254188\n",
       "ALL     True  1687675263  EUR  2023-06-25   107.488721\n",
       "AMD     True  1687675263  EUR  2023-06-25   420.038693\n",
       "ANG     True  1687675263  EUR  2023-06-25     1.957948\n",
       "..       ...         ...  ...         ...          ...\n",
       "YER     True  1687675263  EUR  2023-06-25   273.665544\n",
       "ZAR     True  1687675263  EUR  2023-06-25    20.491032\n",
       "ZMK     True  1687675263  EUR  2023-06-25  9839.487532\n",
       "ZMW     True  1687675263  EUR  2023-06-25    18.495897\n",
       "ZWL     True  1687675263  EUR  2023-06-25   351.987480\n",
       "\n",
       "[170 rows x 5 columns]"
      ]
     },
     "execution_count": 6,
     "metadata": {},
     "output_type": "execute_result"
    }
   ],
   "source": [
    "# Turn the data into a dataframe\n",
    "dataframe = pd.DataFrame(response.json())\n",
    "dataframe"
   ]
  },
  {
   "cell_type": "code",
   "execution_count": 7,
   "metadata": {},
   "outputs": [
    {
     "data": {
      "text/html": [
       "<div>\n",
       "<style scoped>\n",
       "    .dataframe tbody tr th:only-of-type {\n",
       "        vertical-align: middle;\n",
       "    }\n",
       "\n",
       "    .dataframe tbody tr th {\n",
       "        vertical-align: top;\n",
       "    }\n",
       "\n",
       "    .dataframe thead th {\n",
       "        text-align: right;\n",
       "    }\n",
       "</style>\n",
       "<table border=\"1\" class=\"dataframe\">\n",
       "  <thead>\n",
       "    <tr style=\"text-align: right;\">\n",
       "      <th></th>\n",
       "      <th>rates</th>\n",
       "    </tr>\n",
       "  </thead>\n",
       "  <tbody>\n",
       "    <tr>\n",
       "      <th>AED</th>\n",
       "      <td>4.014963</td>\n",
       "    </tr>\n",
       "    <tr>\n",
       "      <th>AFN</th>\n",
       "      <td>93.254188</td>\n",
       "    </tr>\n",
       "    <tr>\n",
       "      <th>ALL</th>\n",
       "      <td>107.488721</td>\n",
       "    </tr>\n",
       "    <tr>\n",
       "      <th>AMD</th>\n",
       "      <td>420.038693</td>\n",
       "    </tr>\n",
       "    <tr>\n",
       "      <th>ANG</th>\n",
       "      <td>1.957948</td>\n",
       "    </tr>\n",
       "    <tr>\n",
       "      <th>...</th>\n",
       "      <td>...</td>\n",
       "    </tr>\n",
       "    <tr>\n",
       "      <th>YER</th>\n",
       "      <td>273.665544</td>\n",
       "    </tr>\n",
       "    <tr>\n",
       "      <th>ZAR</th>\n",
       "      <td>20.491032</td>\n",
       "    </tr>\n",
       "    <tr>\n",
       "      <th>ZMK</th>\n",
       "      <td>9839.487532</td>\n",
       "    </tr>\n",
       "    <tr>\n",
       "      <th>ZMW</th>\n",
       "      <td>18.495897</td>\n",
       "    </tr>\n",
       "    <tr>\n",
       "      <th>ZWL</th>\n",
       "      <td>351.987480</td>\n",
       "    </tr>\n",
       "  </tbody>\n",
       "</table>\n",
       "<p>170 rows × 1 columns</p>\n",
       "</div>"
      ],
      "text/plain": [
       "           rates\n",
       "AED     4.014963\n",
       "AFN    93.254188\n",
       "ALL   107.488721\n",
       "AMD   420.038693\n",
       "ANG     1.957948\n",
       "..           ...\n",
       "YER   273.665544\n",
       "ZAR    20.491032\n",
       "ZMK  9839.487532\n",
       "ZMW    18.495897\n",
       "ZWL   351.987480\n",
       "\n",
       "[170 rows x 1 columns]"
      ]
     },
     "execution_count": 7,
     "metadata": {},
     "output_type": "execute_result"
    }
   ],
   "source": [
    "# Drop unnescessary columns\n",
    "dataframe.drop(columns=[\"success\", \"timestamp\", \"base\", \"date\"], inplace=True)\n",
    "dataframe"
   ]
  },
  {
   "cell_type": "markdown",
   "metadata": {},
   "source": [
    "### Load the Data\n",
    "\n",
    "Using the dataframe save it as a CSV names `exchange_rates_1.csv`.\n"
   ]
  },
  {
   "cell_type": "code",
   "execution_count": 24,
   "metadata": {},
   "outputs": [],
   "source": [
    "# Save the DataFrame as a CSV file\n",
    "dataframe.to_csv(\"exchange_rates_1.csv\")"
   ]
  },
  {
   "cell_type": "markdown",
   "metadata": {},
   "source": [
    "Your CSV should be in this format with more currencies\n",
    "\n",
    "| | Rates |\n",
    "| ------- | ------- |\n",
    "|  AED| 4.398618    |\n",
    "|  AFN| 92.917693   |  \n",
    "|  ALL| 123.099093  |\n",
    "|  AMD| 621.935674  |\n",
    "|  ANG| 2.149648    | \n"
   ]
  },
  {
   "cell_type": "markdown",
   "metadata": {},
   "source": [
    "## Authors\n"
   ]
  },
  {
   "cell_type": "markdown",
   "metadata": {},
   "source": [
    "Ramesh Sannareddy, Joseph Santarcangelo and Azim Hirjani\n"
   ]
  },
  {
   "cell_type": "markdown",
   "metadata": {},
   "source": [
    "### Other Contributors\n"
   ]
  },
  {
   "cell_type": "markdown",
   "metadata": {},
   "source": [
    "Rav Ahuja\n"
   ]
  },
  {
   "cell_type": "markdown",
   "metadata": {},
   "source": [
    "## Change Log\n"
   ]
  },
  {
   "cell_type": "markdown",
   "metadata": {},
   "source": [
    "| Date (YYYY-MM-DD) | Version | Changed By        | Change Description                 |\n",
    "| ----------------- | ------- | ----------------- | ---------------------------------- |\n",
    "| 2022-05-06        | 0.3     | Malika            | Updated instructions to get the API and the url|\n",
    "| 2021-04-15        | 0.2     | Malika            | Updated the lab from USD to EUR    |\n",
    "| 2020-11-25        | 0.1     | Ramesh Sannareddy | Created initial version of the lab |\n"
   ]
  },
  {
   "cell_type": "markdown",
   "metadata": {},
   "source": [
    " Copyright © 2020 IBM Corporation. This notebook and its source code are released under the terms of the [MIT License](https://cognitiveclass.ai/mit-license?utm_medium=Exinfluencer&utm_source=Exinfluencer&utm_content=000026UJ&utm_term=10006555&utm_id=NA-SkillsNetwork-Channel-SkillsNetworkCoursesIBMDeveloperSkillsNetworkPY0221ENSkillsNetwork899-2023-01-01&cm_mmc=Email_Newsletter-_-Developer_Ed%2BTech-_-WW_WW-_-SkillsNetwork-Courses-IBM-DA0321EN-SkillsNetwork-21426264&cm_mmca1=000026UJ&cm_mmca2=10006555&cm_mmca3=M12345678&cvosrc=email.Newsletter.M12345678&cvo_campaign=000026UJ).\n"
   ]
  }
 ],
 "metadata": {
  "kernelspec": {
   "display_name": "Python",
   "language": "python",
   "name": "conda-env-python-py"
  },
  "language_info": {
   "codemirror_mode": {
    "name": "ipython",
    "version": 3
   },
   "file_extension": ".py",
   "mimetype": "text/x-python",
   "name": "python",
   "nbconvert_exporter": "python",
   "pygments_lexer": "ipython3",
   "version": "3.7.12"
  }
 },
 "nbformat": 4,
 "nbformat_minor": 4
}
